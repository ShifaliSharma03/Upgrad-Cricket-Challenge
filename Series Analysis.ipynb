{
 "cells": [
  {
   "cell_type": "markdown",
   "metadata": {},
   "source": [
    "<font color=black>\n",
    "# Odi Series Analysis\n",
    "</font>\n",
    "### Dataset scraped for <i><b>cricinfo</b></i> and <i><b>espn<b></i> using beautifulsoup\n"
   ]
  },
  {
   "cell_type": "markdown",
   "metadata": {},
   "source": [
    "#### Libraries Used:-\n",
    "<ol>\n",
    "<li>pandas</li>\n",
    "<li>numpy</li>\n",
    "<li>matplotlib</li>\n",
    " </ol>"
   ]
  },
  {
   "cell_type": "code",
   "execution_count": 2,
   "metadata": {},
   "outputs": [],
   "source": [
    "import pandas as pd\n",
    "import numpy as np\n",
    "import matplotlib.pyplot as plt\n",
    "import re\n",
    "import warnings\n",
    "warnings.filterwarnings('ignore')"
   ]
  },
  {
   "cell_type": "markdown",
   "metadata": {},
   "source": [
    "##### Loading The dataset \n"
   ]
  },
  {
   "cell_type": "code",
   "execution_count": 2,
   "metadata": {},
   "outputs": [
    {
     "data": {
      "text/html": [
       "<div>\n",
       "<style scoped>\n",
       "    .dataframe tbody tr th:only-of-type {\n",
       "        vertical-align: middle;\n",
       "    }\n",
       "\n",
       "    .dataframe tbody tr th {\n",
       "        vertical-align: top;\n",
       "    }\n",
       "\n",
       "    .dataframe thead th {\n",
       "        text-align: right;\n",
       "    }\n",
       "</style>\n",
       "<table border=\"1\" class=\"dataframe\">\n",
       "  <thead>\n",
       "    <tr style=\"text-align: right;\">\n",
       "      <th></th>\n",
       "      <th>Scorecard</th>\n",
       "      <th>Team 1</th>\n",
       "      <th>Team 2</th>\n",
       "      <th>Winner</th>\n",
       "      <th>Margin</th>\n",
       "      <th>Ground</th>\n",
       "      <th>Match Date</th>\n",
       "    </tr>\n",
       "  </thead>\n",
       "  <tbody>\n",
       "    <tr>\n",
       "      <th>0</th>\n",
       "      <td>ODI # 1</td>\n",
       "      <td>Australia</td>\n",
       "      <td>England</td>\n",
       "      <td>Australia</td>\n",
       "      <td>5 wickets</td>\n",
       "      <td>Melbourne</td>\n",
       "      <td>05-Jan-71</td>\n",
       "    </tr>\n",
       "    <tr>\n",
       "      <th>1</th>\n",
       "      <td>ODI # 2</td>\n",
       "      <td>England</td>\n",
       "      <td>Australia</td>\n",
       "      <td>England</td>\n",
       "      <td>6 wickets</td>\n",
       "      <td>Manchester</td>\n",
       "      <td>24-Aug-72</td>\n",
       "    </tr>\n",
       "    <tr>\n",
       "      <th>2</th>\n",
       "      <td>ODI # 3</td>\n",
       "      <td>England</td>\n",
       "      <td>Australia</td>\n",
       "      <td>Australia</td>\n",
       "      <td>5 wickets</td>\n",
       "      <td>Lord's</td>\n",
       "      <td>26-Aug-72</td>\n",
       "    </tr>\n",
       "    <tr>\n",
       "      <th>3</th>\n",
       "      <td>ODI # 4</td>\n",
       "      <td>England</td>\n",
       "      <td>Australia</td>\n",
       "      <td>England</td>\n",
       "      <td>2 wickets</td>\n",
       "      <td>Birmingham</td>\n",
       "      <td>28-Aug-72</td>\n",
       "    </tr>\n",
       "    <tr>\n",
       "      <th>4</th>\n",
       "      <td>ODI # 5</td>\n",
       "      <td>New Zealand</td>\n",
       "      <td>Pakistan</td>\n",
       "      <td>New Zealand</td>\n",
       "      <td>22 runs</td>\n",
       "      <td>Christchurch</td>\n",
       "      <td>11-Feb-73</td>\n",
       "    </tr>\n",
       "  </tbody>\n",
       "</table>\n",
       "</div>"
      ],
      "text/plain": [
       "  Scorecard       Team 1     Team 2       Winner     Margin        Ground  \\\n",
       "0   ODI # 1    Australia    England    Australia  5 wickets     Melbourne   \n",
       "1   ODI # 2      England  Australia      England  6 wickets    Manchester   \n",
       "2   ODI # 3      England  Australia    Australia  5 wickets        Lord's   \n",
       "3   ODI # 4      England  Australia      England  2 wickets    Birmingham   \n",
       "4   ODI # 5  New Zealand   Pakistan  New Zealand    22 runs  Christchurch   \n",
       "\n",
       "  Match Date  \n",
       "0  05-Jan-71  \n",
       "1  24-Aug-72  \n",
       "2  26-Aug-72  \n",
       "3  28-Aug-72  \n",
       "4  11-Feb-73  "
      ]
     },
     "execution_count": 2,
     "metadata": {},
     "output_type": "execute_result"
    }
   ],
   "source": [
    "odi=pd.read_csv('Complete ODI Record.csv')\n",
    "odi.head()"
   ]
  },
  {
   "cell_type": "markdown",
   "metadata": {},
   "source": [
    "##### Checking for null values in the dataset\n"
   ]
  },
  {
   "cell_type": "code",
   "execution_count": 3,
   "metadata": {},
   "outputs": [
    {
     "data": {
      "text/plain": [
       "Scorecard       0\n",
       "Team 1          0\n",
       "Team 2          0\n",
       "Winner          0\n",
       "Margin        185\n",
       "Ground          0\n",
       "Match Date      0\n",
       "dtype: int64"
      ]
     },
     "execution_count": 3,
     "metadata": {},
     "output_type": "execute_result"
    }
   ],
   "source": [
    "odi.isnull().sum()"
   ]
  },
  {
   "cell_type": "code",
   "execution_count": 4,
   "metadata": {},
   "outputs": [
    {
     "data": {
      "text/plain": [
       "(4098, 7)"
      ]
     },
     "execution_count": 4,
     "metadata": {},
     "output_type": "execute_result"
    }
   ],
   "source": [
    "odi.shape"
   ]
  },
  {
   "cell_type": "markdown",
   "metadata": {},
   "source": [
    "### Extract Matches involving INDIA\n",
    "\n"
   ]
  },
  {
   "cell_type": "code",
   "execution_count": 5,
   "metadata": {},
   "outputs": [],
   "source": [
    "ds_india=odi[(odi['Team 1']=='India') | (odi['Team 2']=='India')]"
   ]
  },
  {
   "cell_type": "code",
   "execution_count": 6,
   "metadata": {},
   "outputs": [],
   "source": [
    "def fix_date(x):\n",
    "    x1=x.split()\n",
    "    x1[1]=x1[1][:2]\n",
    "    x1[2]=x1[2][2:]\n",
    "    return x1[1]+'-'+x1[0]+'-'+x1[2]\n",
    "ds_india['Match Date']=ds_india['Match Date'].apply(lambda x:x if len(x)<=9 else fix_date(x))\n",
    "ds_india['Match Date']=pd.to_datetime(ds_india['Match Date'])\n",
    "ds_india['Match Year']=ds_india['Match Date'].dt.year\n",
    "ds_india['Match Month']=ds_india['Match Date'].dt.month\n",
    "ds_india['Match Day']=ds_india['Match Date'].dt.day"
   ]
  },
  {
   "cell_type": "markdown",
   "metadata": {},
   "source": [
    "### Total<b><i><u> 961</u></b></i> matches of INDIA in the dataset \n"
   ]
  },
  {
   "cell_type": "code",
   "execution_count": 7,
   "metadata": {},
   "outputs": [
    {
     "data": {
      "text/plain": [
       "(961, 10)"
      ]
     },
     "execution_count": 7,
     "metadata": {},
     "output_type": "execute_result"
    }
   ],
   "source": [
    "ds_india.shape"
   ]
  },
  {
   "cell_type": "markdown",
   "metadata": {},
   "source": [
    "### Different ground India has played on  \n"
   ]
  },
  {
   "cell_type": "code",
   "execution_count": 8,
   "metadata": {},
   "outputs": [
    {
     "data": {
      "text/plain": [
       "array(['Leeds', 'The Oval', \"Lord's\", 'Manchester', 'Christchurch',\n",
       "       'Auckland', 'Quetta', 'Sialkot', 'Sahiwal', 'Birmingham',\n",
       "       'Melbourne', 'Perth', 'Sydney', 'Brisbane', 'Adelaide', 'Hamilton',\n",
       "       'Ahmedabad', 'Jalandhar', 'Cuttack', 'Amritsar', 'Delhi',\n",
       "       'Bengaluru', 'Gujranwala', 'Multan', 'Lahore', 'Karachi',\n",
       "       'Port of Spain', 'Albion', \"St George's\", 'Leicester',\n",
       "       'Nottingham', 'Tunbridge Wells', 'Chelmsford',\n",
       "       'Hyderabad (Deccan)', 'Jaipur', 'Srinagar', 'Vadodara', 'Indore',\n",
       "       'Jamshedpur', 'Guwahati', 'Sharjah', 'New Delhi',\n",
       "       'Thiruvananthapuram', 'Pune', 'Nagpur', 'Chandigarh',\n",
       "       'Colombo (SSC)', 'Colombo (PSS)', 'Launceston', 'Rajkot', 'Kanpur',\n",
       "       'Mumbai', 'Kolkata', 'Chennai', 'Faridabad', 'Gwalior',\n",
       "       'Chittagong', 'Dhaka', 'Visakhapatnam', 'Bridgetown', \"St John's\",\n",
       "       'Georgetown', 'Dunedin', 'Wellington', 'Margao', 'Hobart',\n",
       "       'Mackay', 'Harare', 'Cape Town', 'Port Elizabeth', 'Centurion',\n",
       "       'Johannesburg', 'Bloemfontein', 'Durban', 'East London',\n",
       "       'Colombo (RPS)', 'Moratuwa', 'Mohali', 'Napier', 'Mumbai (BS)',\n",
       "       'Singapore', 'Toronto', 'Paarl', 'Benoni', 'Bulawayo', 'Kingstown',\n",
       "       'Hyderabad (Sind)', 'Kochi', 'Taupo', 'Hove', 'Bristol', 'Taunton',\n",
       "       'Galle', 'Nairobi (Gym)', 'Jodhpur', 'Chester-le-Street',\n",
       "       'Vijayawada', 'Queenstown', 'Pietermaritzburg', 'Rawalpindi',\n",
       "       'Peshawar', 'Dambulla', 'Amstelveen', 'Southampton', 'Abu Dhabi',\n",
       "       'Kingston', 'Basseterre', 'Kuala Lumpur', 'Belfast', 'Glasgow',\n",
       "       'Canberra', 'Gros Islet', 'North Sound', 'Cardiff', 'Hambantota',\n",
       "       'Pallekele', 'Ranchi', 'Dharamsala', 'Fatullah', 'Dubai (DSC)',\n",
       "       'Mount Maunganui'], dtype=object)"
      ]
     },
     "execution_count": 8,
     "metadata": {},
     "output_type": "execute_result"
    }
   ],
   "source": [
    "ds_india['Ground'].unique()"
   ]
  },
  {
   "cell_type": "markdown",
   "metadata": {},
   "source": [
    "### Creating a new feature <b><i><u> Home Ground</u></i></b> for INDIA"
   ]
  },
  {
   "cell_type": "code",
   "execution_count": null,
   "metadata": {},
   "outputs": [],
   "source": [
    "# home_gr=['Ahmedabad', 'Jalandhar', 'Cuttack', 'Amritsar', 'Delhi',\n",
    "       'Bengaluru', 'Hyderabad (Deccan)', 'Jaipur', 'Srinagar', 'Vadodara', 'Indore',\n",
    "       'Jamshedpur', 'Guwahati', 'New Delhi',\n",
    "       'Thiruvananthapuram', 'Pune', 'Nagpur', 'Chandigarh','Rajkot', 'Kanpur',\n",
    "       'Mumbai', 'Kolkata', 'Chennai', 'Faridabad', 'Gwalior',\n",
    "       'Visakhapatnam', 'Mohali', 'Napier', 'Mumbai (BS)',\n",
    "       'Hyderabad (Sind)', 'Kochi','Jodhpur',\n",
    "       'Vijayawada','Ranchi', 'Dharamsala']\n",
    "ds_india['Home/Away']=ds_india['Ground'].apply(lambda x:'Home' if x in home_gr else 'Away')"
   ]
  },
  {
   "cell_type": "markdown",
   "metadata": {},
   "source": [
    "### Mapping<b><i><u>Win/Loss</u></i></b> to the dataset"
   ]
  },
  {
   "cell_type": "code",
   "execution_count": 10,
   "metadata": {},
   "outputs": [],
   "source": [
    "ds_india['Ind Win/Loss']=ds_india['Winner'].apply(lambda x:'Win' if x=='India' else ('Tie' if x=='no result' or x=='tied' or x=='-' else 'Loss'))"
   ]
  },
  {
   "cell_type": "markdown",
   "metadata": {},
   "source": [
    "### Mapping <b><i><u>Chase/Defending</u></i></b> to the Dataset"
   ]
  },
  {
   "cell_type": "code",
   "execution_count": 11,
   "metadata": {},
   "outputs": [],
   "source": [
    "ds_india['WinBat First/Second']=ds_india['Margin'].apply(lambda x:'First' if 'runs' in str(x).split() else ('Second' if 'wickets' in str(x).split() else 'NR'))"
   ]
  },
  {
   "cell_type": "code",
   "execution_count": 12,
   "metadata": {},
   "outputs": [
    {
     "data": {
      "text/html": [
       "<div>\n",
       "<style scoped>\n",
       "    .dataframe tbody tr th:only-of-type {\n",
       "        vertical-align: middle;\n",
       "    }\n",
       "\n",
       "    .dataframe tbody tr th {\n",
       "        vertical-align: top;\n",
       "    }\n",
       "\n",
       "    .dataframe thead th {\n",
       "        text-align: right;\n",
       "    }\n",
       "</style>\n",
       "<table border=\"1\" class=\"dataframe\">\n",
       "  <thead>\n",
       "    <tr style=\"text-align: right;\">\n",
       "      <th></th>\n",
       "      <th>Team 1</th>\n",
       "      <th>Team 2</th>\n",
       "      <th>Winner</th>\n",
       "      <th>Margin</th>\n",
       "      <th>Ground</th>\n",
       "      <th>Match Year</th>\n",
       "      <th>Match Month</th>\n",
       "      <th>Match Day</th>\n",
       "      <th>Home/Away</th>\n",
       "      <th>Ind Win/Loss</th>\n",
       "      <th>WinBat First/Second</th>\n",
       "    </tr>\n",
       "  </thead>\n",
       "  <tbody>\n",
       "    <tr>\n",
       "      <th>11</th>\n",
       "      <td>England</td>\n",
       "      <td>India</td>\n",
       "      <td>England</td>\n",
       "      <td>4 wickets</td>\n",
       "      <td>Leeds</td>\n",
       "      <td>1974</td>\n",
       "      <td>7</td>\n",
       "      <td>13</td>\n",
       "      <td>Away</td>\n",
       "      <td>Loss</td>\n",
       "      <td>Second</td>\n",
       "    </tr>\n",
       "    <tr>\n",
       "      <th>12</th>\n",
       "      <td>England</td>\n",
       "      <td>India</td>\n",
       "      <td>England</td>\n",
       "      <td>6 wickets</td>\n",
       "      <td>The Oval</td>\n",
       "      <td>1974</td>\n",
       "      <td>7</td>\n",
       "      <td>15</td>\n",
       "      <td>Away</td>\n",
       "      <td>Loss</td>\n",
       "      <td>Second</td>\n",
       "    </tr>\n",
       "    <tr>\n",
       "      <th>18</th>\n",
       "      <td>England</td>\n",
       "      <td>India</td>\n",
       "      <td>England</td>\n",
       "      <td>202 runs</td>\n",
       "      <td>Lord's</td>\n",
       "      <td>1975</td>\n",
       "      <td>6</td>\n",
       "      <td>7</td>\n",
       "      <td>Away</td>\n",
       "      <td>Loss</td>\n",
       "      <td>First</td>\n",
       "    </tr>\n",
       "    <tr>\n",
       "      <th>23</th>\n",
       "      <td>East Africa</td>\n",
       "      <td>India</td>\n",
       "      <td>India</td>\n",
       "      <td>10 wickets</td>\n",
       "      <td>Leeds</td>\n",
       "      <td>1975</td>\n",
       "      <td>6</td>\n",
       "      <td>11</td>\n",
       "      <td>Away</td>\n",
       "      <td>Win</td>\n",
       "      <td>Second</td>\n",
       "    </tr>\n",
       "    <tr>\n",
       "      <th>27</th>\n",
       "      <td>India</td>\n",
       "      <td>New Zealand</td>\n",
       "      <td>New Zealand</td>\n",
       "      <td>4 wickets</td>\n",
       "      <td>Manchester</td>\n",
       "      <td>1975</td>\n",
       "      <td>6</td>\n",
       "      <td>14</td>\n",
       "      <td>Away</td>\n",
       "      <td>Loss</td>\n",
       "      <td>Second</td>\n",
       "    </tr>\n",
       "  </tbody>\n",
       "</table>\n",
       "</div>"
      ],
      "text/plain": [
       "         Team 1       Team 2       Winner      Margin      Ground  Match Year  \\\n",
       "11      England        India      England   4 wickets       Leeds        1974   \n",
       "12      England        India      England   6 wickets    The Oval        1974   \n",
       "18      England        India      England    202 runs      Lord's        1975   \n",
       "23  East Africa        India        India  10 wickets       Leeds        1975   \n",
       "27        India  New Zealand  New Zealand   4 wickets  Manchester        1975   \n",
       "\n",
       "    Match Month  Match Day Home/Away Ind Win/Loss WinBat First/Second  \n",
       "11            7         13      Away         Loss              Second  \n",
       "12            7         15      Away         Loss              Second  \n",
       "18            6          7      Away         Loss               First  \n",
       "23            6         11      Away          Win              Second  \n",
       "27            6         14      Away         Loss              Second  "
      ]
     },
     "execution_count": 12,
     "metadata": {},
     "output_type": "execute_result"
    }
   ],
   "source": [
    "ds_india=ds_india.drop(['Scorecard', 'Match Date'], axis=1)\n",
    "ds_india.head()"
   ]
  },
  {
   "cell_type": "code",
   "execution_count": 13,
   "metadata": {},
   "outputs": [],
   "source": [
    "plot=ds_india.groupby(['Ind Win/Loss', 'Home/Away']).agg('count').reset_index()"
   ]
  },
  {
   "cell_type": "code",
   "execution_count": 14,
   "metadata": {},
   "outputs": [
    {
     "data": {
      "image/png": "[encoded data removed]",
      "text/plain": [
       "<Figure size 432x288 with 1 Axes>"
      ]
     },
     "metadata": {},
     "output_type": "display_data"
    }
   ],
   "source": [
    "N = 3\n",
    "Home = plot[plot['Home/Away']=='Home']['Team 1'].values\n",
    "\n",
    "fig, ax = plt.subplots()\n",
    "\n",
    "ind = np.arange(N)   \n",
    "width = 0.35\n",
    "p1 = ax.bar(ind, Home, width, color='b')\n",
    "\n",
    "\n",
    "Away = plot[plot['Home/Away']=='Away']['Team 1'].values\n",
    "p2 = ax.bar(ind + width, Away, width,\n",
    "            color='g')\n",
    "\n",
    "ax.set_title('Win/Loss in Home/Away')\n",
    "ax.set_xticks(ind + width / 2)\n",
    "ax.set_xticklabels(('Loss', 'Tie', 'Win'))\n",
    "\n",
    "ax.legend((p1[0], p2[0]), ('Home', 'Away'))\n",
    "ax.autoscale_view()\n",
    "\n",
    "plt.show()\n"
   ]
  },
  {
   "cell_type": "code",
   "execution_count": 15,
   "metadata": {},
   "outputs": [],
   "source": [
    "def make_autopct(values):\n",
    "    def my_autopct(pct):\n",
    "        total = sum(values)\n",
    "        val = int(round(pct*total/100.0))\n",
    "        return '{p:.2f}%  ({v:d})'.format(p=pct,v=val)\n",
    "    return my_autopct"
   ]
  },
  {
   "cell_type": "code",
   "execution_count": 16,
   "metadata": {},
   "outputs": [],
   "source": [
    "p1=ds_india[(ds_india['Home/Away']=='Home') & (ds_india['Ind Win/Loss']=='Loss')].shape[0]\n",
    "p2=ds_india[(ds_india['Home/Away']=='Home') & (ds_india['Ind Win/Loss']=='Tie')].shape[0]\n",
    "p3=ds_india[(ds_india['Home/Away']=='Home') & (ds_india['Ind Win/Loss']=='Win')].shape[0]"
   ]
  },
  {
   "cell_type": "code",
   "execution_count": 17,
   "metadata": {},
   "outputs": [
    {
     "data": {
      "image/png": "[encoded data removed]",
      "text/plain": [
       "<Figure size 432x288 with 1 Axes>"
      ]
     },
     "metadata": {},
     "output_type": "display_data"
    }
   ],
   "source": [
    "labels = 'Loss', 'Tie', 'Win'\n",
    "explode = (0, 0, 0.1)\n",
    "\n",
    "fig1, ax1 = plt.subplots()\n",
    "ax1.set_title('Win/Loss in Home')\n",
    "ax1.pie([p1, p2, p3], explode=explode, labels=labels, autopct=make_autopct([p1, p2, p3]),shadow=True, startangle=90)\n",
    "ax1.axis('equal')\n",
    "\n",
    "plt.show()"
   ]
  },
  {
   "cell_type": "code",
   "execution_count": 18,
   "metadata": {},
   "outputs": [],
   "source": [
    "ds_aus=ds_india[(ds_india['Team 1']=='Australia') | (ds_india['Team 2']=='Australia')]"
   ]
  },
  {
   "cell_type": "code",
   "execution_count": 19,
   "metadata": {},
   "outputs": [],
   "source": [
    "p1=ds_aus[(ds_aus['Home/Away']=='Home') & (ds_aus['Ind Win/Loss']=='Loss')].shape[0]\n",
    "p2=ds_aus[(ds_aus['Home/Away']=='Home') & (ds_aus['Ind Win/Loss']=='Tie')].shape[0]\n",
    "p3=ds_aus[(ds_aus['Home/Away']=='Home') & (ds_aus['Ind Win/Loss']=='Win')].shape[0]"
   ]
  },
  {
   "cell_type": "markdown",
   "metadata": {},
   "source": [
    "# Win/Loss in Home vs Aus"
   ]
  },
  {
   "cell_type": "code",
   "execution_count": null,
   "metadata": {},
   "outputs": [],
   "source": [
    "# labels = 'Loss', 'Tie', 'Win'\n",
    "explode = (0, 0, 0.1)\n",
    "\n",
    "fig1, ax1 = plt.subplots()\n",
    "ax1.set_title('Win/Loss in Home vs Aus')\n",
    "ax1.pie([p1, p2, p3], explode=explode, labels=labels, autopct=make_autopct([p1, p2, p3]),shadow=True, startangle=90)\n",
    "ax1.axis('equal')\n",
    "\n",
    "plt.show()"
   ]
  },
  {
   "cell_type": "markdown",
   "metadata": {},
   "source": [
    "# Ground Analysis\n"
   ]
  },
  {
   "cell_type": "code",
   "execution_count": 21,
   "metadata": {},
   "outputs": [],
   "source": [
    "#Ground Analysis\n",
    "gr_Mohali=ds_india[(ds_india['Ground']=='Mohali') | (ds_india['Ground']=='Chandigarh')]\n",
    "gr_Delhi=ds_india[ds_india['Ground']=='Delhi']\n",
    "gr_Hyd=ds_india[(ds_india['Ground']=='Hyderabad (Deccan)') | (ds_india['Ground']=='Hyderabad (Sind)')]\n",
    "gr_Nagpur=ds_india[ds_india['Ground']=='Nagpur']\n",
    "gr_Ranchi=ds_india[ds_india['Ground']=='Ranchi']"
   ]
  },
  {
   "cell_type": "markdown",
   "metadata": {},
   "source": [
    "## Win/Loss in Mohali\n",
    "## Win/Loss in Mohali vs Aus\n"
   ]
  },
  {
   "cell_type": "code",
   "execution_count": 22,
   "metadata": {},
   "outputs": [
    {
     "data": {
      "image/png": "[encoded data removed]",
      "text/plain": [
       "<Figure size 432x288 with 1 Axes>"
      ]
     },
     "metadata": {},
     "output_type": "display_data"
    },
    {
     "data": {
      "image/png": "[encoded data removed]",
      "text/plain": [
       "<Figure size 432x288 with 1 Axes>"
      ]
     },
     "metadata": {},
     "output_type": "display_data"
    }
   ],
   "source": [
    "p1=gr_Mohali[gr_Mohali['Ind Win/Loss']=='Loss'].shape[0]\n",
    "p2=gr_Mohali[gr_Mohali['Ind Win/Loss']=='Tie'].shape[0]\n",
    "p3=gr_Mohali[gr_Mohali['Ind Win/Loss']=='Win'].shape[0]\n",
    "p4=gr_Mohali[(gr_Mohali['Ind Win/Loss']=='Loss') & ((gr_Mohali['Team 1']=='Australia') | (gr_Mohali['Team 2']=='Australia'))].shape[0]\n",
    "p5=gr_Mohali[(gr_Mohali['Ind Win/Loss']=='Tie') & ((gr_Mohali['Team 1']=='Australia') | (gr_Mohali['Team 2']=='Australia'))].shape[0]\n",
    "p6=gr_Mohali[(gr_Mohali['Ind Win/Loss']=='Win') & ((gr_Mohali['Team 1']=='Australia') | (gr_Mohali['Team 2']=='Australia'))].shape[0]\n",
    "labels = 'Loss', 'Tie', 'Win'\n",
    "explode = (0, 0, 0.1)\n",
    "\n",
    "fig1, ax1 = plt.subplots()\n",
    "ax1.set_title('Win/Loss in Mohali')\n",
    "ax1.pie([p1, p2, p3], explode=explode, labels=labels, autopct=make_autopct([p1, p2, p3]),shadow=True, startangle=90)\n",
    "ax1.axis('equal')\n",
    "\n",
    "fig2, ax2 = plt.subplots()\n",
    "ax2.set_title('Win/Loss in Mohali vs Aus')\n",
    "ax2.pie([p4, p5, p6], explode=explode, labels=labels, autopct=make_autopct([p4, p5, p6]),shadow=True, startangle=90)\n",
    "ax2.axis('equal')\n",
    "\n",
    "plt.show()"
   ]
  },
  {
   "cell_type": "code",
   "execution_count": 23,
   "metadata": {},
   "outputs": [
    {
     "data": {
      "text/plain": [
       "3204     Win\n",
       "3326     Win\n",
       "3420    Loss\n",
       "3797     Win\n",
       "3940     Win\n",
       "Name: Ind Win/Loss, dtype: object"
      ]
     },
     "execution_count": 23,
     "metadata": {},
     "output_type": "execute_result"
    }
   ],
   "source": [
    "#Recent 5 Matches in Mohali Most Recent last\n",
    "gr_Mohali.tail()['Ind Win/Loss']"
   ]
  },
  {
   "cell_type": "markdown",
   "metadata": {},
   "source": [
    "## Win/Loss in Delhi\n",
    "## Win/Loss in Delhi vs Aus\n"
   ]
  },
  {
   "cell_type": "code",
   "execution_count": 24,
   "metadata": {},
   "outputs": [
    {
     "data": {
      "image/png": "[encoded data removed]",
      "text/plain": [
       "<Figure size 432x288 with 1 Axes>"
      ]
     },
     "metadata": {},
     "output_type": "display_data"
    },
    {
     "data": {
      "image/png": "[encoded data removed]",
      "text/plain": [
       "<Figure size 432x288 with 1 Axes>"
      ]
     },
     "metadata": {},
     "output_type": "display_data"
    }
   ],
   "source": [
    "p1=gr_Delhi[gr_Delhi['Ind Win/Loss']=='Loss'].shape[0]\n",
    "p2=gr_Delhi[gr_Delhi['Ind Win/Loss']=='Tie'].shape[0]\n",
    "p3=gr_Delhi[gr_Delhi['Ind Win/Loss']=='Win'].shape[0]\n",
    "p4=gr_Delhi[(gr_Delhi['Ind Win/Loss']=='Loss') & ((gr_Delhi['Team 1']=='Australia') | (gr_Delhi['Team 2']=='Australia'))].shape[0]\n",
    "p5=gr_Delhi[(gr_Delhi['Ind Win/Loss']=='Tie') & ((gr_Delhi['Team 1']=='Australia') | (gr_Delhi['Team 2']=='Australia'))].shape[0]\n",
    "p6=gr_Delhi[(gr_Delhi['Ind Win/Loss']=='Win') & ((gr_Delhi['Team 1']=='Australia') | (gr_Delhi['Team 2']=='Australia'))].shape[0]\n",
    "labels = 'Loss', 'Tie', 'Win'\n",
    "explode = (0, 0, 0.1)\n",
    "\n",
    "fig1, ax1 = plt.subplots()\n",
    "ax1.set_title('Win/Loss in Delhi')\n",
    "ax1.pie([p1, p2, p3], explode=explode, labels=labels, autopct=make_autopct([p1, p2, p3]),shadow=True, startangle=90)\n",
    "ax1.axis('equal')\n",
    "\n",
    "fig2, ax2 = plt.subplots()\n",
    "ax2.set_title('Win/Loss in Delhi vs Aus')\n",
    "ax2.pie([p4, p5, p6], explode=explode, labels=labels, autopct=make_autopct([p4, p5, p6]),shadow=True, startangle=90)\n",
    "ax2.axis('equal')\n",
    "\n",
    "plt.show()"
   ]
  },
  {
   "cell_type": "code",
   "execution_count": 25,
   "metadata": {},
   "outputs": [
    {
     "data": {
      "text/plain": [
       "3123     Win\n",
       "3200     Win\n",
       "3315     Win\n",
       "3532     Win\n",
       "3796    Loss\n",
       "Name: Ind Win/Loss, dtype: object"
      ]
     },
     "execution_count": 25,
     "metadata": {},
     "output_type": "execute_result"
    }
   ],
   "source": [
    "#Recent 5 Matches in Delhi Most Recent last\n",
    "gr_Delhi.tail()['Ind Win/Loss']"
   ]
  },
  {
   "cell_type": "markdown",
   "metadata": {},
   "source": [
    "## Win/Loss in Ranchi\n",
    "## Win/Loss in Ranchi vs Aus\n"
   ]
  },
  {
   "cell_type": "code",
   "execution_count": 26,
   "metadata": {},
   "outputs": [
    {
     "data": {
      "image/png": "[encoded data removed]",
      "text/plain": [
       "<Figure size 432x288 with 1 Axes>"
      ]
     },
     "metadata": {},
     "output_type": "display_data"
    },
    {
     "data": {
      "image/png": "[encoded data removed]",
      "text/plain": [
       "<Figure size 432x288 with 1 Axes>"
      ]
     },
     "metadata": {},
     "output_type": "display_data"
    }
   ],
   "source": [
    "p1=gr_Ranchi[gr_Ranchi['Ind Win/Loss']=='Loss'].shape[0]\n",
    "p2=gr_Ranchi[gr_Ranchi['Ind Win/Loss']=='Tie'].shape[0]\n",
    "p3=gr_Ranchi[gr_Ranchi['Ind Win/Loss']=='Win'].shape[0]\n",
    "p4=gr_Ranchi[(gr_Ranchi['Ind Win/Loss']=='Loss') & ((gr_Ranchi['Team 1']=='Australia') | (gr_Ranchi['Team 2']=='Australia'))].shape[0]\n",
    "p5=gr_Ranchi[(gr_Ranchi['Ind Win/Loss']=='Tie') & ((gr_Ranchi['Team 1']=='Australia') | (gr_Ranchi['Team 2']=='Australia'))].shape[0]\n",
    "p6=gr_Ranchi[(gr_Ranchi['Ind Win/Loss']=='Win') & ((gr_Ranchi['Team 1']=='Australia') | (gr_Ranchi['Team 2']=='Australia'))].shape[0]\n",
    "labels = 'Loss', 'Tie', 'Win'\n",
    "explode = (0, 0, 0.1)\n",
    "\n",
    "fig1, ax1 = plt.subplots()\n",
    "ax1.set_title('Win/Loss in Ranchi')\n",
    "ax1.pie([p1, p2, p3], explode=explode, labels=labels, autopct=make_autopct([p1, p2, p3]),shadow=True, startangle=90)\n",
    "ax1.axis('equal')\n",
    "\n",
    "fig2, ax2 = plt.subplots()\n",
    "ax2.set_title('Win/Loss in Ranchi vs Aus')\n",
    "ax2.pie([p4, p5, p6], explode=explode, labels=labels, autopct=make_autopct([p4, p5, p6]),shadow=True, startangle=90)\n",
    "ax2.axis('equal')\n",
    "\n",
    "plt.show()"
   ]
  },
  {
   "cell_type": "code",
   "execution_count": 27,
   "metadata": {},
   "outputs": [
    {
     "data": {
      "text/plain": [
       "3321     Win\n",
       "3421     Tie\n",
       "3546     Win\n",
       "3798    Loss\n",
       "Name: Ind Win/Loss, dtype: object"
      ]
     },
     "execution_count": 27,
     "metadata": {},
     "output_type": "execute_result"
    }
   ],
   "source": [
    "#Recent 4 Matches in Ranchi Most Recent last\n",
    "gr_Ranchi.tail()['Ind Win/Loss']"
   ]
  },
  {
   "cell_type": "markdown",
   "metadata": {},
   "source": [
    "## Win/Loss in Hyderabad\n",
    "## Win/Loss in Hyderabad vs Aus\n"
   ]
  },
  {
   "cell_type": "code",
   "execution_count": 28,
   "metadata": {},
   "outputs": [
    {
     "data": {
      "image/png": "[encoded data removed]",
      "text/plain": [
       "<Figure size 432x288 with 1 Axes>"
      ]
     },
     "metadata": {},
     "output_type": "display_data"
    },
    {
     "data": {
      "image/png": "[encoded data removed]",
      "text/plain": [
       "<Figure size 432x288 with 1 Axes>"
      ]
     },
     "metadata": {},
     "output_type": "display_data"
    }
   ],
   "source": [
    "p1=gr_Hyd[gr_Hyd['Ind Win/Loss']=='Loss'].shape[0]\n",
    "p2=gr_Hyd[gr_Hyd['Ind Win/Loss']=='Tie'].shape[0]\n",
    "p3=gr_Hyd[gr_Hyd['Ind Win/Loss']=='Win'].shape[0]\n",
    "p4=gr_Hyd[(gr_Hyd['Ind Win/Loss']=='Loss') & ((gr_Hyd['Team 1']=='Australia') | (gr_Hyd['Team 2']=='Australia'))].shape[0]\n",
    "p5=gr_Hyd[(gr_Hyd['Ind Win/Loss']=='Tie') & ((gr_Hyd['Team 1']=='Australia') | (gr_Hyd['Team 2']=='Australia'))].shape[0]\n",
    "p6=gr_Hyd[(gr_Hyd['Ind Win/Loss']=='Win') & ((gr_Hyd['Team 1']=='Australia') | (gr_Hyd['Team 2']=='Australia'))].shape[0]\n",
    "labels = 'Loss', 'Tie', 'Win'\n",
    "explode = (0, 0, 0.1)\n",
    "\n",
    "fig1, ax1 = plt.subplots()\n",
    "ax1.set_title('Win/Loss in Hyderabad')\n",
    "ax1.pie([p1, p2, p3], explode=explode, labels=labels, autopct=make_autopct([p1, p2, p3]),shadow=True, startangle=90)\n",
    "ax1.axis('equal')\n",
    "\n",
    "fig2, ax2 = plt.subplots()\n",
    "ax2.set_title('Win/Loss in Hyderbad vs Aus')\n",
    "ax2.pie([p4, p5, p6], explode=explode, labels=labels, autopct=make_autopct([p4, p5, p6]),shadow=True, startangle=90)\n",
    "ax2.axis('equal')\n",
    "\n",
    "plt.show()"
   ]
  },
  {
   "cell_type": "code",
   "execution_count": 29,
   "metadata": {},
   "outputs": [
    {
     "data": {
      "text/plain": [
       "2296    Loss\n",
       "2624    Loss\n",
       "2922    Loss\n",
       "3198     Win\n",
       "3542     Win\n",
       "Name: Ind Win/Loss, dtype: object"
      ]
     },
     "execution_count": 29,
     "metadata": {},
     "output_type": "execute_result"
    }
   ],
   "source": [
    "#Recent 5 Matches in Hyderabad Most Recent last\n",
    "gr_Hyd.tail()['Ind Win/Loss']"
   ]
  },
  {
   "cell_type": "markdown",
   "metadata": {},
   "source": [
    "# Win/Loss in Nagpur\n",
    "## Win/Loss in Nagpur vs Aus\n"
   ]
  },
  {
   "cell_type": "code",
   "execution_count": 30,
   "metadata": {},
   "outputs": [
    {
     "data": {
      "image/png": "[encoded data removed]",
      "text/plain": [
       "<Figure size 432x288 with 1 Axes>"
      ]
     },
     "metadata": {},
     "output_type": "display_data"
    },
    {
     "data": {
      "image/png": "[encoded data removed]",
      "text/plain": [
       "<Figure size 432x288 with 1 Axes>"
      ]
     },
     "metadata": {},
     "output_type": "display_data"
    }
   ],
   "source": [
    "p1=gr_Nagpur[gr_Nagpur['Ind Win/Loss']=='Loss'].shape[0]\n",
    "p2=gr_Nagpur[gr_Nagpur['Ind Win/Loss']=='Tie'].shape[0]\n",
    "p3=gr_Nagpur[gr_Nagpur['Ind Win/Loss']=='Win'].shape[0]\n",
    "p4=gr_Nagpur[(gr_Nagpur['Ind Win/Loss']=='Loss') & ((gr_Nagpur['Team 1']=='Australia') | (gr_Nagpur['Team 2']=='Australia'))].shape[0]\n",
    "p5=gr_Nagpur[(gr_Nagpur['Ind Win/Loss']=='Tie') & ((gr_Nagpur['Team 1']=='Australia') | (gr_Nagpur['Team 2']=='Australia'))].shape[0]\n",
    "p6=gr_Nagpur[(gr_Nagpur['Ind Win/Loss']=='Win') & ((gr_Nagpur['Team 1']=='Australia') | (gr_Nagpur['Team 2']=='Australia'))].shape[0]\n",
    "labels = 'Loss', 'Tie', 'Win'\n",
    "explode = (0, 0, 0.1)\n",
    "\n",
    "fig1, ax1 = plt.subplots()\n",
    "ax1.set_title('Win/Loss in Nagpur')\n",
    "ax1.pie([p1, p2, p3], explode=explode, labels=labels, autopct=make_autopct([p1, p2, p3]),shadow=True, startangle=90)\n",
    "ax1.axis('equal')\n",
    "\n",
    "fig2, ax2 = plt.subplots()\n",
    "ax2.set_title('Win/Loss in Nagpur vs Aus')\n",
    "ax2.pie([p4, p5, p6], explode=explode, labels=labels, autopct=make_autopct([p4, p5, p6]),shadow=True, startangle=90)\n",
    "ax2.axis('equal')\n",
    "\n",
    "plt.show()"
   ]
  },
  {
   "cell_type": "code",
   "execution_count": 31,
   "metadata": {},
   "outputs": [
    {
     "data": {
      "text/plain": [
       "2914     Win\n",
       "2932    Loss\n",
       "3127    Loss\n",
       "3423     Win\n",
       "3918     Win\n",
       "Name: Ind Win/Loss, dtype: object"
      ]
     },
     "execution_count": 31,
     "metadata": {},
     "output_type": "execute_result"
    }
   ],
   "source": [
    "#REccent 5 Matches in Nagpur Most Recent last\n",
    "gr_Nagpur.tail()['Ind Win/Loss']"
   ]
  },
  {
   "cell_type": "markdown",
   "metadata": {},
   "source": [
    "# Last 20 Matches Record at Home\n"
   ]
  },
  {
   "cell_type": "code",
   "execution_count": 32,
   "metadata": {},
   "outputs": [
    {
     "data": {
      "image/png": "[encoded data removed]",
      "text/plain": [
       "<Figure size 432x288 with 1 Axes>"
      ]
     },
     "metadata": {},
     "output_type": "display_data"
    }
   ],
   "source": [
    "record_last20=ds_india[ds_india['Home/Away']=='Home'].tail(20)\n",
    "p1=record_last20[record_last20['Ind Win/Loss']=='Loss'].shape[0]\n",
    "p2=record_last20[record_last20['Ind Win/Loss']=='Tie'].shape[0]\n",
    "p3=record_last20[record_last20['Ind Win/Loss']=='Win'].shape[0]\n",
    "plt.bar(np.arange(3),[p1,p2,p3])\n",
    "plt.xticks(np.arange(3), ['Loss', 'Tie', 'Win'])\n",
    "plt.title('Last 20 Matches Record at Home')\n",
    "plt.show()"
   ]
  },
  {
   "cell_type": "markdown",
   "metadata": {},
   "source": [
    "### Last 20 Matches Record at Home vs Aus"
   ]
  },
  {
   "cell_type": "code",
   "execution_count": 33,
   "metadata": {},
   "outputs": [
    {
     "data": {
      "image/png": "[encoded data removed]",
      "text/plain": [
       "<Figure size 432x288 with 1 Axes>"
      ]
     },
     "metadata": {},
     "output_type": "display_data"
    }
   ],
   "source": [
    "record_last20=ds_india[(ds_india['Home/Away']=='Home') & ((ds_india['Team 1']=='Australia') | (ds_india['Team 2']=='Australia'))].tail(20)\n",
    "p1=record_last20[record_last20['Ind Win/Loss']=='Loss'].shape[0]\n",
    "p2=record_last20[record_last20['Ind Win/Loss']=='Tie'].shape[0]\n",
    "p3=record_last20[record_last20['Ind Win/Loss']=='Win'].shape[0]\n",
    "plt.bar(np.arange(3),[p1,p2,p3])\n",
    "plt.xticks(np.arange(3), ['Loss', 'Tie', 'Win'])\n",
    "plt.title('Last 20 Matches Record at Home vs Aus')\n",
    "plt.show()"
   ]
  },
  {
   "cell_type": "markdown",
   "metadata": {},
   "source": [
    "### Series Analysis for India\n"
   ]
  },
  {
   "cell_type": "code",
   "execution_count": 34,
   "metadata": {},
   "outputs": [
    {
     "data": {
      "text/html": [
       "<div>\n",
       "<style scoped>\n",
       "    .dataframe tbody tr th:only-of-type {\n",
       "        vertical-align: middle;\n",
       "    }\n",
       "\n",
       "    .dataframe tbody tr th {\n",
       "        vertical-align: top;\n",
       "    }\n",
       "\n",
       "    .dataframe thead th {\n",
       "        text-align: right;\n",
       "    }\n",
       "</style>\n",
       "<table border=\"1\" class=\"dataframe\">\n",
       "  <thead>\n",
       "    <tr style=\"text-align: right;\">\n",
       "      <th></th>\n",
       "      <th>Series/Tournament</th>\n",
       "      <th>Season</th>\n",
       "      <th>Winner</th>\n",
       "      <th>Margin</th>\n",
       "    </tr>\n",
       "  </thead>\n",
       "  <tbody>\n",
       "    <tr>\n",
       "      <th>0</th>\n",
       "      <td>Prudential Trophy (India in England)</td>\n",
       "      <td>1974</td>\n",
       "      <td>England</td>\n",
       "      <td>2-0 (2)</td>\n",
       "    </tr>\n",
       "    <tr>\n",
       "      <th>2</th>\n",
       "      <td>India in New Zealand ODI Series</td>\n",
       "      <td>1975/76</td>\n",
       "      <td>New Zealand</td>\n",
       "      <td>2-0 (2)</td>\n",
       "    </tr>\n",
       "    <tr>\n",
       "      <th>3</th>\n",
       "      <td>India in Pakistan ODI Series</td>\n",
       "      <td>1978/79</td>\n",
       "      <td>Pakistan</td>\n",
       "      <td>2-1 (3)</td>\n",
       "    </tr>\n",
       "    <tr>\n",
       "      <th>6</th>\n",
       "      <td>India in New Zealand ODI Series</td>\n",
       "      <td>1980/81</td>\n",
       "      <td>New Zealand</td>\n",
       "      <td>2-0 (2)</td>\n",
       "    </tr>\n",
       "    <tr>\n",
       "      <th>7</th>\n",
       "      <td>England in India ODI Series</td>\n",
       "      <td>1981/82</td>\n",
       "      <td>India</td>\n",
       "      <td>2-1 (3)</td>\n",
       "    </tr>\n",
       "  </tbody>\n",
       "</table>\n",
       "</div>"
      ],
      "text/plain": [
       "                      Series/Tournament   Season       Winner   Margin\n",
       "0  Prudential Trophy (India in England)     1974      England  2-0 (2)\n",
       "2       India in New Zealand ODI Series  1975/76  New Zealand  2-0 (2)\n",
       "3          India in Pakistan ODI Series  1978/79     Pakistan  2-1 (3)\n",
       "6       India in New Zealand ODI Series  1980/81  New Zealand  2-0 (2)\n",
       "7           England in India ODI Series  1981/82        India  2-1 (3)"
      ]
     },
     "execution_count": 34,
     "metadata": {},
     "output_type": "execute_result"
    }
   ],
   "source": [
    "ds_series=pd.read_csv('Series India.csv')\n",
    "ds_series=ds_series[:219]\n",
    "ds_series.dropna(axis=0,inplace=True) #Considering only Bilateral Series\n",
    "ds_series.head()"
   ]
  },
  {
   "cell_type": "markdown",
   "metadata": {},
   "source": [
    "### Only Bilateral Series Invloving India\n"
   ]
  },
  {
   "cell_type": "code",
   "execution_count": 35,
   "metadata": {},
   "outputs": [
    {
     "data": {
      "text/plain": [
       "(123, 4)"
      ]
     },
     "execution_count": 35,
     "metadata": {},
     "output_type": "execute_result"
    }
   ],
   "source": [
    "ds_series.shape"
   ]
  },
  {
   "cell_type": "code",
   "execution_count": 36,
   "metadata": {},
   "outputs": [],
   "source": [
    "ds_series['Home/Away']=ds_series['Series/Tournament'].apply(lambda x:'Home' if (re.findall('\\\\b'+'in India'+'\\\\b', x)) else 'Away')\n",
    "ds_series['Year']=ds_series['Season'].apply(lambda x: str(x)[:4])\n",
    "ds_series['Ind Win/Loss']=ds_series['Winner'].apply(lambda x:'Win' if x=='India' else ('Tie' if x=='drawn' or x=='shared' or x=='abandoned' else 'Loss'))\n",
    "ds_series['Against Aus']=ds_series['Series/Tournament'].apply(lambda x:'Yes' if (re.findall('\\\\b'+'Australia'+'\\\\b', x)) else 'No')"
   ]
  },
  {
   "cell_type": "code",
   "execution_count": 37,
   "metadata": {},
   "outputs": [],
   "source": [
    "def mat_won(x):\n",
    "    if (x['Ind Win/Loss']=='Win') or (x['Ind Win/Loss']=='Tie'):\n",
    "        return x['Margin'][0]\n",
    "    else:\n",
    "        return x['Margin'][2]\n",
    "    \n",
    "def mat_lost(x):\n",
    "    if (x['Ind Win/Loss']=='Win') or (x['Ind Win/Loss']=='Tie'):\n",
    "        return x['Margin'][2]\n",
    "    else:\n",
    "        return x['Margin'][0]"
   ]
  },
  {
   "cell_type": "code",
   "execution_count": 38,
   "metadata": {},
   "outputs": [],
   "source": [
    "ds_series['Ind Match Win']=ds_series.apply(mat_won, axis=1)\n",
    "ds_series['Ind Match Loss']=ds_series.apply(mat_lost, axis=1)\n",
    "ds_series['Total Matches']=ds_series['Margin'].apply(lambda x: x[5])"
   ]
  },
  {
   "cell_type": "code",
   "execution_count": 39,
   "metadata": {},
   "outputs": [],
   "source": [
    "ds_series=ds_series.drop(['Margin', 'Season', 'Series/Tournament'], axis=1)"
   ]
  },
  {
   "cell_type": "code",
   "execution_count": 40,
   "metadata": {},
   "outputs": [
    {
     "data": {
      "text/html": [
       "<div>\n",
       "<style scoped>\n",
       "    .dataframe tbody tr th:only-of-type {\n",
       "        vertical-align: middle;\n",
       "    }\n",
       "\n",
       "    .dataframe tbody tr th {\n",
       "        vertical-align: top;\n",
       "    }\n",
       "\n",
       "    .dataframe thead th {\n",
       "        text-align: right;\n",
       "    }\n",
       "</style>\n",
       "<table border=\"1\" class=\"dataframe\">\n",
       "  <thead>\n",
       "    <tr style=\"text-align: right;\">\n",
       "      <th></th>\n",
       "      <th>Winner</th>\n",
       "      <th>Home/Away</th>\n",
       "      <th>Year</th>\n",
       "      <th>Ind Win/Loss</th>\n",
       "      <th>Against Aus</th>\n",
       "      <th>Ind Match Win</th>\n",
       "      <th>Ind Match Loss</th>\n",
       "      <th>Total Matches</th>\n",
       "    </tr>\n",
       "  </thead>\n",
       "  <tbody>\n",
       "    <tr>\n",
       "      <th>0</th>\n",
       "      <td>England</td>\n",
       "      <td>Away</td>\n",
       "      <td>1974</td>\n",
       "      <td>Loss</td>\n",
       "      <td>No</td>\n",
       "      <td>0</td>\n",
       "      <td>2</td>\n",
       "      <td>2</td>\n",
       "    </tr>\n",
       "    <tr>\n",
       "      <th>2</th>\n",
       "      <td>New Zealand</td>\n",
       "      <td>Away</td>\n",
       "      <td>1975</td>\n",
       "      <td>Loss</td>\n",
       "      <td>No</td>\n",
       "      <td>0</td>\n",
       "      <td>2</td>\n",
       "      <td>2</td>\n",
       "    </tr>\n",
       "    <tr>\n",
       "      <th>3</th>\n",
       "      <td>Pakistan</td>\n",
       "      <td>Away</td>\n",
       "      <td>1978</td>\n",
       "      <td>Loss</td>\n",
       "      <td>No</td>\n",
       "      <td>1</td>\n",
       "      <td>2</td>\n",
       "      <td>3</td>\n",
       "    </tr>\n",
       "    <tr>\n",
       "      <th>6</th>\n",
       "      <td>New Zealand</td>\n",
       "      <td>Away</td>\n",
       "      <td>1980</td>\n",
       "      <td>Loss</td>\n",
       "      <td>No</td>\n",
       "      <td>0</td>\n",
       "      <td>2</td>\n",
       "      <td>2</td>\n",
       "    </tr>\n",
       "    <tr>\n",
       "      <th>7</th>\n",
       "      <td>India</td>\n",
       "      <td>Home</td>\n",
       "      <td>1981</td>\n",
       "      <td>Win</td>\n",
       "      <td>No</td>\n",
       "      <td>2</td>\n",
       "      <td>1</td>\n",
       "      <td>3</td>\n",
       "    </tr>\n",
       "  </tbody>\n",
       "</table>\n",
       "</div>"
      ],
      "text/plain": [
       "        Winner Home/Away  Year Ind Win/Loss Against Aus Ind Match Win  \\\n",
       "0      England      Away  1974         Loss          No             0   \n",
       "2  New Zealand      Away  1975         Loss          No             0   \n",
       "3     Pakistan      Away  1978         Loss          No             1   \n",
       "6  New Zealand      Away  1980         Loss          No             0   \n",
       "7        India      Home  1981          Win          No             2   \n",
       "\n",
       "  Ind Match Loss Total Matches  \n",
       "0              2             2  \n",
       "2              2             2  \n",
       "3              2             3  \n",
       "6              2             2  \n",
       "7              1             3  "
      ]
     },
     "execution_count": 40,
     "metadata": {},
     "output_type": "execute_result"
    }
   ],
   "source": [
    "ds_series.head()"
   ]
  },
  {
   "cell_type": "code",
   "execution_count": 41,
   "metadata": {},
   "outputs": [
    {
     "data": {
      "text/plain": [
       "Ind Match Win\n",
       "0    19\n",
       "1    24\n",
       "2    34\n",
       "3    26\n",
       "4    11\n",
       "5     8\n",
       "6     1\n",
       "Name: Ind Match Win, dtype: int64"
      ]
     },
     "execution_count": 41,
     "metadata": {},
     "output_type": "execute_result"
    }
   ],
   "source": [
    "ds_series.groupby('Ind Match Win')['Ind Match Win'].count()"
   ]
  },
  {
   "cell_type": "code",
   "execution_count": 42,
   "metadata": {},
   "outputs": [
    {
     "data": {
      "text/plain": [
       "Ind Match Loss\n",
       "0    21\n",
       "1    44\n",
       "2    30\n",
       "3    11\n",
       "4    11\n",
       "5     5\n",
       "6     1\n",
       "Name: Ind Match Loss, dtype: int64"
      ]
     },
     "execution_count": 42,
     "metadata": {},
     "output_type": "execute_result"
    }
   ],
   "source": [
    "ds_series.groupby('Ind Match Loss')['Ind Match Loss'].count()"
   ]
  },
  {
   "cell_type": "markdown",
   "metadata": {},
   "source": [
    "# Series Analysis for INDIA"
   ]
  },
  {
   "cell_type": "code",
   "execution_count": 43,
   "metadata": {},
   "outputs": [
    {
     "data": {
      "image/png": "[encoded data removed]",
      "text/plain": [
       "<Figure size 432x288 with 1 Axes>"
      ]
     },
     "metadata": {},
     "output_type": "display_data"
    },
    {
     "data": {
      "image/png": "[encoded data removed]",
      "text/plain": [
       "<Figure size 432x288 with 1 Axes>"
      ]
     },
     "metadata": {},
     "output_type": "display_data"
    }
   ],
   "source": [
    "fig1, ax1 = plt.subplots()\n",
    "ax1.bar(np.arange(len(ds_series.groupby('Ind Match Win')['Ind Match Win'])),ds_series.groupby('Ind Match Win')['Ind Match Win'].count())\n",
    "ax1.set_xticks(np.arange(7),[0,1,2,3,4,5,6])\n",
    "ax1.set_title('Matches Won per Series')\n",
    "\n",
    "fig2, ax2 = plt.subplots()\n",
    "ax2.bar(np.arange(len(ds_series.groupby('Ind Match Loss')['Ind Match Loss'])),ds_series.groupby('Ind Match Loss')['Ind Match Loss'].count())\n",
    "ax2.set_xticks(np.arange(7),[0,1,2,3,4,5,6])\n",
    "ax2.set_title('Matches Lost per Series')\n",
    "\n",
    "plt.show()"
   ]
  },
  {
   "cell_type": "code",
   "execution_count": 44,
   "metadata": {},
   "outputs": [
    {
     "data": {
      "image/png": "[encoded data removed]",
      "text/plain": [
       "<Figure size 432x288 with 1 Axes>"
      ]
     },
     "metadata": {},
     "output_type": "display_data"
    },
    {
     "data": {
      "image/png": "[encoded data removed]",
      "text/plain": [
       "<Figure size 432x288 with 1 Axes>"
      ]
     },
     "metadata": {},
     "output_type": "display_data"
    }
   ],
   "source": [
    "fig1, ax1 = plt.subplots()\n",
    "ax1.bar(np.arange(len(ds_series[ds_series['Home/Away']=='Home'].groupby('Ind Match Win')['Ind Match Win'])),ds_series[ds_series['Home/Away']=='Home'].groupby('Ind Match Win')['Ind Match Win'].count())\n",
    "ax1.set_xticks(np.arange(7),[0,1,2,3,4,5,6])\n",
    "ax1.set_title('Matches Won per Series at Home')\n",
    "\n",
    "fig2, ax2 = plt.subplots()\n",
    "ax2.bar(np.arange(len(ds_series[ds_series['Home/Away']=='Home'].groupby('Ind Match Loss')['Ind Match Loss'])),ds_series[ds_series['Home/Away']=='Home'].groupby('Ind Match Loss')['Ind Match Loss'].count())\n",
    "ax2.set_xticks(np.arange(7),[0,1,2,3,4,5,6])\n",
    "ax2.set_title('Matches Lost per Series at Home')\n",
    "\n",
    "plt.show()"
   ]
  },
  {
   "cell_type": "code",
   "execution_count": 45,
   "metadata": {},
   "outputs": [
    {
     "data": {
      "text/plain": [
       "Ind Match Win\n",
       "0    2\n",
       "1    1\n",
       "2    4\n",
       "3    9\n",
       "4    5\n",
       "5    4\n",
       "Name: Ind Match Loss, dtype: int64"
      ]
     },
     "execution_count": 45,
     "metadata": {},
     "output_type": "execute_result"
    }
   ],
   "source": [
    "ds_series[(ds_series['Total Matches'].astype(int) == 5) & (ds_series['Home/Away']=='Home')].groupby('Ind Match Win')['Ind Match Loss'].count()"
   ]
  },
  {
   "cell_type": "code",
   "execution_count": 46,
   "metadata": {},
   "outputs": [
    {
     "data": {
      "image/png": "[encoded data removed]",
      "text/plain": [
       "<Figure size 432x288 with 1 Axes>"
      ]
     },
     "metadata": {},
     "output_type": "display_data"
    },
    {
     "data": {
      "image/png": "[encoded data removed]",
      "text/plain": [
       "<Figure size 432x288 with 1 Axes>"
      ]
     },
     "metadata": {},
     "output_type": "display_data"
    }
   ],
   "source": [
    "fig1, ax1 = plt.subplots()\n",
    "ax1.bar(np.arange(len(ds_series[(ds_series['Total Matches'].astype(int) == 5) & (ds_series['Home/Away']=='Home')].groupby('Ind Match Win')['Ind Match Win'])),ds_series[(ds_series['Total Matches'].astype(int) == 5) & (ds_series['Home/Away']=='Home')].groupby('Ind Match Win')['Ind Match Win'].count())\n",
    "ax1.set_xticks(np.arange(6),[0,1,2,3,4,5])\n",
    "ax1.set_title('Matches Won per Series at Home in a 5 Match Series')\n",
    "\n",
    "fig2, ax2 = plt.subplots()\n",
    "ax2.bar(np.arange(len(ds_series[(ds_series['Total Matches'].astype(int) == 5) & (ds_series['Home/Away']=='Home')].groupby('Ind Match Loss')['Ind Match Loss'])),ds_series[(ds_series['Total Matches'].astype(int) == 5) & (ds_series['Home/Away']=='Home')].groupby('Ind Match Loss')['Ind Match Loss'].count())\n",
    "ax2.set_xticks(np.arange(6),[0,1,2,3,4,5])\n",
    "ax2.set_title('Matches Lost per Series at Home in a 5 Match Series')\n",
    "\n",
    "plt.show()"
   ]
  },
  {
   "cell_type": "code",
   "execution_count": 47,
   "metadata": {},
   "outputs": [
    {
     "data": {
      "text/plain": [
       "Ind Win/Loss\n",
       "Loss    13\n",
       "Tie      4\n",
       "Win     39\n",
       "Name: Home/Away, dtype: int64"
      ]
     },
     "execution_count": 47,
     "metadata": {},
     "output_type": "execute_result"
    }
   ],
   "source": [
    "ds_series[ds_series['Home/Away']=='Home'].groupby('Ind Win/Loss')['Home/Away'].count()"
   ]
  },
  {
   "cell_type": "code",
   "execution_count": 48,
   "metadata": {},
   "outputs": [
    {
     "data": {
      "image/png": "[encoded data removed]",
      "text/plain": [
       "<Figure size 432x288 with 1 Axes>"
      ]
     },
     "metadata": {},
     "output_type": "display_data"
    }
   ],
   "source": [
    "N = 3\n",
    "Home = ds_series[ds_series['Home/Away']=='Home'].groupby('Ind Win/Loss')['Home/Away'].count().values\n",
    "\n",
    "fig, ax = plt.subplots()\n",
    "\n",
    "ind = np.arange(N)   \n",
    "width = 0.35\n",
    "p1 = ax.bar(ind, Home, width, color='b')\n",
    "\n",
    "\n",
    "Away = ds_series[ds_series['Home/Away']=='Away'].groupby('Ind Win/Loss')['Home/Away'].count().values\n",
    "p2 = ax.bar(ind + width, Away, width,\n",
    "            color='g')\n",
    "\n",
    "ax.set_title('Series Win/Loss in Home/Away')\n",
    "ax.set_xticks(ind + width / 2)\n",
    "ax.set_xticklabels(('Loss', 'Tie', 'Win'))\n",
    "\n",
    "ax.legend((p1[0], p2[0]), ('Home', 'Away'))\n",
    "ax.autoscale_view()\n",
    "\n",
    "plt.show()\n"
   ]
  },
  {
   "cell_type": "code",
   "execution_count": 49,
   "metadata": {},
   "outputs": [
    {
     "data": {
      "text/plain": [
       "Ind Win/Loss\n",
       "Loss     5\n",
       "Tie      1\n",
       "Win     19\n",
       "Name: Home/Away, dtype: int64"
      ]
     },
     "execution_count": 49,
     "metadata": {},
     "output_type": "execute_result"
    }
   ],
   "source": [
    "ds_series[(ds_series['Home/Away']=='Home') & (ds_series['Total Matches'].astype(int)==5)].groupby('Ind Win/Loss')['Home/Away'].count()"
   ]
  },
  {
   "cell_type": "code",
   "execution_count": 50,
   "metadata": {},
   "outputs": [
    {
     "data": {
      "image/png": "[encoded data removed]",
      "text/plain": [
       "<Figure size 432x288 with 1 Axes>"
      ]
     },
     "metadata": {},
     "output_type": "display_data"
    }
   ],
   "source": [
    "N = 3\n",
    "Home = ds_series[(ds_series['Home/Away']=='Home') & (ds_series['Total Matches'].astype(int)==5)].groupby('Ind Win/Loss')['Home/Away'].count().values\n",
    "\n",
    "fig, ax = plt.subplots()\n",
    "\n",
    "ind = np.arange(N)   \n",
    "width = 0.35\n",
    "p1 = ax.bar(ind, Home, width, color='b')\n",
    "\n",
    "\n",
    "Away = ds_series[(ds_series['Home/Away']=='Away') & (ds_series['Total Matches'].astype(int)==5)].groupby('Ind Win/Loss')['Home/Away'].count().values\n",
    "p2 = ax.bar(ind + width, Away, width,\n",
    "            color='g')\n",
    "\n",
    "ax.set_title('5 Match Series Win/Loss in Home/Away')\n",
    "ax.set_xticks(ind + width / 2)\n",
    "ax.set_xticklabels(('Loss', 'Tie', 'Win'))\n",
    "\n",
    "ax.legend((p1[0], p2[0]), ('Home', 'Away'))\n",
    "ax.autoscale_view()\n",
    "\n",
    "plt.show()\n"
   ]
  },
  {
   "cell_type": "code",
   "execution_count": 51,
   "metadata": {},
   "outputs": [
    {
     "data": {
      "text/plain": [
       "190     Win\n",
       "196     Win\n",
       "197     Win\n",
       "202    Loss\n",
       "205     Win\n",
       "206     Win\n",
       "210     Win\n",
       "211     Win\n",
       "212     Win\n",
       "216     Win\n",
       "Name: Ind Win/Loss, dtype: object"
      ]
     },
     "execution_count": 51,
     "metadata": {},
     "output_type": "execute_result"
    }
   ],
   "source": [
    "#Recent 10 Home Series Most Recent Last\n",
    "ds_series[ds_series['Home/Away']=='Home']['Ind Win/Loss'].tail(10)"
   ]
  },
  {
   "cell_type": "code",
   "execution_count": 52,
   "metadata": {},
   "outputs": [
    {
     "data": {
      "text/plain": [
       "154    Loss\n",
       "166    Loss\n",
       "173     Win\n",
       "189     Win\n",
       "210     Win\n",
       "Name: Ind Win/Loss, dtype: object"
      ]
     },
     "execution_count": 52,
     "metadata": {},
     "output_type": "execute_result"
    }
   ],
   "source": [
    "#Recent 5 Home Series Against Australia Most Recent Last\n",
    "ds_series[(ds_series['Home/Away']=='Home') & (ds_series['Against Aus']=='Yes')]['Ind Win/Loss'].tail()"
   ]
  },
  {
   "cell_type": "markdown",
   "metadata": {},
   "source": [
    "\n",
    "<h2>1. We can <b><i><u>Predict India to win the Series</b></i></u> based on Past Record and Data Available</h2>\n",
    "<h2>2. With a 5 Match Series Record of<b><i><u> India Winning 4 Matches in Nagpur, Mohali, Delhi,Ranchi</b></i></u></h2>\n",
    "<h2>3. India<b><i><u> will lose the Match in Hyderabad </b></i></u>based on past performance record</h2>\n",
    "<h2>4.<b><i><u> Predict 4-1 (India Win)</b></i></u></h2>\n",
    "<h2>5. India won 9 out of last 10 Home series</h2>\n",
    "<h2>6. India won 3 out of last 5 Home series vs Australia</h2>\n",
    "<h2>7. India won 19 out of 25 5-Match Home Series by winning 3 matches maximum number of times</h2>"
   ]
  },
  {
   "cell_type": "code",
   "execution_count": null,
   "metadata": {},
   "outputs": [],
   "source": []
  }
 ],
 "metadata": {
  "kernelspec": {
   "display_name": "Python 3",
   "language": "python",
   "name": "python3"
  },
  "language_info": {
   "codemirror_mode": {
    "name": "ipython",
    "version": 3
   },
   "file_extension": ".py",
   "mimetype": "text/x-python",
   "name": "python",
   "nbconvert_exporter": "python",
   "pygments_lexer": "ipython3",
   "version": "3.6.2"
  }
 },
 "nbformat": 4,
 "nbformat_minor": 2
}
